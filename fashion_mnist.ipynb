{
  "nbformat": 4,
  "nbformat_minor": 0,
  "metadata": {
    "colab": {
      "provenance": [],
      "authorship_tag": "ABX9TyMp9VqGHNYja0Pto+5J+sjm",
      "include_colab_link": true
    },
    "kernelspec": {
      "name": "python3",
      "display_name": "Python 3"
    },
    "language_info": {
      "name": "python"
    }
  },
  "cells": [
    {
      "cell_type": "markdown",
      "metadata": {
        "id": "view-in-github",
        "colab_type": "text"
      },
      "source": [
        "<a href=\"https://colab.research.google.com/github/samycolen/ML_Models/blob/main/fashion_mnist.ipynb\" target=\"_parent\"><img src=\"https://colab.research.google.com/assets/colab-badge.svg\" alt=\"Open In Colab\"/></a>"
      ]
    },
    {
      "cell_type": "code",
      "source": [
        "import tensorflow as tf\n",
        "\n",
        "\n",
        "data = tf.keras.datasets.fashion_mnist "
      ],
      "metadata": {
        "id": "XOZHxqzF00jp"
      },
      "execution_count": null,
      "outputs": []
    },
    {
      "cell_type": "code",
      "source": [
        "(training_images, training_labels), (test_images, test_labels) = data.load_data()   #! -------> loading the data"
      ],
      "metadata": {
        "colab": {
          "base_uri": "https://localhost:8080/"
        },
        "id": "X7F-LFsP09iJ",
        "outputId": "30b1af87-a4c1-4bb9-b227-03deb51470cc"
      },
      "execution_count": null,
      "outputs": [
        {
          "output_type": "stream",
          "name": "stdout",
          "text": [
            "Downloading data from https://storage.googleapis.com/tensorflow/tf-keras-datasets/train-labels-idx1-ubyte.gz\n",
            "29515/29515 [==============================] - 0s 0us/step\n",
            "Downloading data from https://storage.googleapis.com/tensorflow/tf-keras-datasets/train-images-idx3-ubyte.gz\n",
            "26421880/26421880 [==============================] - 2s 0us/step\n",
            "Downloading data from https://storage.googleapis.com/tensorflow/tf-keras-datasets/t10k-labels-idx1-ubyte.gz\n",
            "5148/5148 [==============================] - 0s 0us/step\n",
            "Downloading data from https://storage.googleapis.com/tensorflow/tf-keras-datasets/t10k-images-idx3-ubyte.gz\n",
            "4422102/4422102 [==============================] - 1s 0us/step\n"
          ]
        }
      ]
    },
    {
      "cell_type": "code",
      "source": [
        "training_images = training_images / 255.0   #!........................>      Normalizing the data\n",
        "test_images = test_images / 255.0           #!........................>      Normalizing the data\n"
      ],
      "metadata": {
        "id": "THzYmR691DNj"
      },
      "execution_count": null,
      "outputs": []
    },
    {
      "cell_type": "code",
      "source": [
        "#! crating the model \n",
        "model = tf.keras.models.Sequential([\n",
        "tf.keras.layers.Flatten(input_shape=(28, 28)),                  #!  input layer specification.\n",
        "tf.keras.layers.Dense(128, activation=tf.nn.relu),              #!  middle layer of neurons which contains 128 neurons(hidden layer)\n",
        "tf.keras.layers.Dense(10, activation=tf.nn.softmax)             #!  o/p layer of 10 neurons (because we have 10 classes) \n",
        "])"
      ],
      "metadata": {
        "id": "8HVBhE__1KGT"
      },
      "execution_count": null,
      "outputs": []
    },
    {
      "cell_type": "code",
      "source": [
        "#!  here we are defining the optimizer ,loss fn and also metrics which is showing the accuracy\n",
        "model.compile(optimizer='adam',\n",
        "loss='sparse_categorical_crossentropy',\n",
        "metrics=['accuracy'])"
      ],
      "metadata": {
        "id": "0cfH07Xg1O-_"
      },
      "execution_count": null,
      "outputs": []
    },
    {
      "cell_type": "code",
      "source": [
        "#! here we training our model using the fit() method : fitting the training_images to the training_labels over five epoches \n",
        "\n",
        "\n",
        "model.fit(training_images, training_labels, epochs=5)\n",
        "\n",
        "\n",
        "#! after training the model we have to evaluate the model by passing the test_images and checking the test_laberls\n",
        "\n",
        "model.evaluate(training_images,training_labels)\n",
        "model.evaluate(test_images,test_labels)\n",
        "\n",
        "\n",
        "#! after training and evaluating the model we have to explore our model \n",
        "\n",
        "classification = model.predict(test_images)  #!  it is a set \n",
        "\n",
        "print(classification[9999])\n",
        "\n",
        "print(test_labels[9999])  "
      ],
      "metadata": {
        "colab": {
          "base_uri": "https://localhost:8080/"
        },
        "id": "BISxodKf1XWr",
        "outputId": "75179371-0a4d-401a-a8a0-ca3b3ee24880"
      },
      "execution_count": null,
      "outputs": [
        {
          "output_type": "stream",
          "name": "stdout",
          "text": [
            "Epoch 1/5\n",
            "1875/1875 [==============================] - 9s 5ms/step - loss: 0.5015 - accuracy: 0.8236\n",
            "Epoch 2/5\n",
            "1875/1875 [==============================] - 7s 4ms/step - loss: 0.3794 - accuracy: 0.8628\n",
            "Epoch 3/5\n",
            "1875/1875 [==============================] - 8s 4ms/step - loss: 0.3423 - accuracy: 0.8742\n",
            "Epoch 4/5\n",
            "1875/1875 [==============================] - 7s 4ms/step - loss: 0.3147 - accuracy: 0.8840\n",
            "Epoch 5/5\n",
            "1875/1875 [==============================] - 10s 5ms/step - loss: 0.2966 - accuracy: 0.8909\n",
            "1875/1875 [==============================] - 4s 2ms/step - loss: 0.2752 - accuracy: 0.8994\n",
            "313/313 [==============================] - 1s 3ms/step - loss: 0.3553 - accuracy: 0.8744\n",
            "313/313 [==============================] - 1s 2ms/step\n",
            "[7.6827273e-05 1.2421148e-06 3.7066591e-05 4.1434514e-06 1.5500425e-04\n",
            " 9.9515235e-01 7.7786208e-05 3.7184032e-03 7.3985319e-04 3.7424456e-05]\n",
            "5\n"
          ]
        }
      ]
    }
  ]
}